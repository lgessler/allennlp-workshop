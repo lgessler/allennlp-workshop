{
 "cells": [
  {
   "cell_type": "code",
   "execution_count": 10,
   "id": "d23cac34-f498-41e3-ae67-be0d37e11f92",
   "metadata": {},
   "outputs": [],
   "source": [
    "import torch"
   ]
  },
  {
   "cell_type": "code",
   "execution_count": 11,
   "id": "940e1281-ddb7-4d61-abad-d91704edde62",
   "metadata": {},
   "outputs": [],
   "source": [
    "# Exercise 1\n",
    "# ====================================\n",
    "a = torch.tensor([[1,2],\n",
    "                  [3,4]])\n"
   ]
  },
  {
   "cell_type": "code",
   "execution_count": 12,
   "id": "de906e20-98a5-4566-ac7e-d3e09237e73d",
   "metadata": {},
   "outputs": [],
   "source": [
    "# Exercise 2\n",
    "# ====================================\n",
    "a = torch.tensor([[1,2],\n",
    "                  [3,4]])\n",
    "b = torch.tensor([[4,3],\n",
    "                  [2,1]])\n"
   ]
  },
  {
   "cell_type": "code",
   "execution_count": 14,
   "id": "c4d4f50b-9890-445f-8fb5-425a275ac22f",
   "metadata": {},
   "outputs": [],
   "source": [
    "# Exercise 3\n",
    "# ====================================\n",
    "a = torch.tensor([[2,0],\n",
    "                  [0,1]])\n",
    "b = torch.tensor([[5,5],\n",
    "                  [5,5]])\n"
   ]
  },
  {
   "cell_type": "code",
   "execution_count": null,
   "id": "27e7c036-1c80-411e-8910-8eddb8ca8d41",
   "metadata": {},
   "outputs": [],
   "source": [
    "# Exercise 4\n",
    "# ====================================\n",
    "import torch.nn as nn\n",
    "\n",
    "linear = nn.Linear(3,2)\n",
    "\n",
    "# List the parameters of the module along with their names\n",
    "for name, param in linear.named_parameters():\n",
    "    print(name, param)\n",
    "print()\n",
    "\n",
    "# Note that Parameters are just a special kind of tensor\n",
    "print(\"Weight shape:\", linear.weight.shape)\n",
    "print(\"Bias shape:\", linear.bias.shape)\n",
    "print()\n",
    "\n",
    "fours = 4 * torch.ones((3,))\n",
    "print(fours)\n",
    "output = linear(fours)\n",
    "print(output)"
   ]
  }
 ],
 "metadata": {
  "kernelspec": {
   "display_name": "Python 3 (ipykernel)",
   "language": "python",
   "name": "python3"
  },
  "language_info": {
   "codemirror_mode": {
    "name": "ipython",
    "version": 3
   },
   "file_extension": ".py",
   "mimetype": "text/x-python",
   "name": "python",
   "nbconvert_exporter": "python",
   "pygments_lexer": "ipython3",
   "version": "3.9.7"
  }
 },
 "nbformat": 4,
 "nbformat_minor": 5
}
