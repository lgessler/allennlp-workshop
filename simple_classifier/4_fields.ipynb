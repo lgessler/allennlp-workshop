{
 "cells": [
  {
   "cell_type": "code",
   "execution_count": 1,
   "id": "79e4a060-49e2-4b9b-9cb9-4f203648a573",
   "metadata": {},
   "outputs": [],
   "source": [
    "from allennlp.data.tokenizers import Tokenizer, LettersDigitsTokenizer, SpacyTokenizer, CharacterTokenizer, PretrainedTransformerTokenizer, WhitespaceTokenizer\n",
    "from simple_classifier.dataset_reader import YelpReviewJsonLinesReader\n",
    "\n",
    "# Set up tokenizers and indexers\n",
    "letters_digits_tokenizer = LettersDigitsTokenizer()\n",
    "spacy_tokenizer = SpacyTokenizer()\n",
    "character_tokenizer = CharacterTokenizer()\n",
    "distilbert_tokenizer = PretrainedTransformerTokenizer('distilbert-base-uncased')\n",
    "whitespace_tokenizer = WhitespaceTokenizer()"
   ]
  },
  {
   "cell_type": "code",
   "execution_count": 2,
   "id": "de1cefb0-e184-4e9e-940a-d57d549c0e43",
   "metadata": {},
   "outputs": [
    {
     "name": "stdout",
     "output_type": "stream",
     "text": [
      "Pierre Vinken , 61 years old , will join the board as a nonexecutive director Nov . 29 .\n",
      "Pierre Vinken , 61 years old , will join the board as a nonexecutive director Nov. 29 .\n",
      "Pierre Vinken, 61 years old, will join the board as a nonexecutive director Nov. 29.\n",
      "P i e r r e   V i n k e n ,   6 1   y e a r s   o l d ,   w i l l   j o i n   t h e   b o a r d   a s   a   n o n e x e c u t i v e   d i r e c t o r   N o v .   2 9 .\n",
      "[CLS] pierre vin ##ken , 61 years old , will join the board as a none ##x ##ec ##utive director nov . 29 . [SEP]\n"
     ]
    }
   ],
   "source": [
    "# Exercise 16\n",
    "# ==============================\n",
    "text = \"Pierre Vinken, 61 years old, will join the board as a nonexecutive director Nov. 29.\"\n",
    "print(\" \".join(x.text for x in letters_digits_tokenizer.tokenize(text)))\n",
    "print(\" \".join(x.text for x in spacy_tokenizer.tokenize(text)))\n",
    "print(\" \".join(x.text for x in whitespace_tokenizer.tokenize(text)))\n",
    "print(\" \".join(x.text for x in character_tokenizer.tokenize(text)))\n",
    "print(\" \".join(x.text for x in distilbert_tokenizer.tokenize(text)))"
   ]
  },
  {
   "cell_type": "code",
   "execution_count": 17,
   "id": "4df0a68b-34ab-40db-a73c-2da2fdec5ed8",
   "metadata": {},
   "outputs": [
    {
     "data": {
      "application/vnd.jupyter.widget-view+json": {
       "model_id": "af84a998ddc74dea994aeee09ef9c68d",
       "version_major": 2,
       "version_minor": 0
      },
      "text/plain": [
       "building vocab: 0it [00:00, ?it/s]"
      ]
     },
     "metadata": {},
     "output_type": "display_data"
    },
    {
     "name": "stdout",
     "output_type": "stream",
     "text": [
      "Vocabulary with namespaces:\n",
      " \tNon Padded Namespaces: {'*labels', '*tags'}\n",
      " \tNamespace: tokens, Size: 24300 \n",
      " \tNamespace: labels, Size: 5 \n",
      "\n",
      "letters_digits_tokenizer output:\n",
      "\t [Pierre, Vinken, ,, 61, years, old, ,, will, join, the, board, as, a, nonexecutive, director, Nov, ., 29, .]\n",
      "single_id_indexer output:\n",
      "\t {'tokens': [1, 1, 4, 5139, 251, 257, 4, 93, 3402, 3, 2087, 44, 7, 1, 1, 12633, 2, 4671, 2]}\n",
      "\n",
      "character_tokenizer output:\n",
      "\t [P, i, e, r, r, e,  , V, i, n, k, e, n, ,,  , 6, 1,  , y, e, a, r, s,  , o, l, d, ,,  , w, i, l, l,  , j, o, i, n,  , t, h, e,  , b, o, a, r, d,  , a, s,  , a,  , n, o, n, e, x, e, c, u, t, i, v, e,  , d, i, r, e, c, t, o, r,  , N, o, v, .,  , 2, 9, .]\n",
      "character_indexer output:\n",
      "\t {'token_characters': [[1], [1], [1], [1], [1], [1], [1], [1], [1], [1], [1], [1], [1], [1], [1], [1], [1], [1], [1], [1], [1], [1], [1], [1], [1], [1], [1], [1], [1], [1], [1], [1], [1], [1], [1], [1], [1], [1], [1], [1], [1], [1], [1], [1], [1], [1], [1], [1], [1], [1], [1], [1], [1], [1], [1], [1], [1], [1], [1], [1], [1], [1], [1], [1], [1], [1], [1], [1], [1], [1], [1], [1], [1], [1], [1], [1], [1], [1], [1], [1], [1], [1], [1], [1]]}\n",
      "token in \"token_characters\" at index 1:\n",
      "\t @@UNKNOWN@@\n"
     ]
    }
   ],
   "source": [
    "# Exercise 17\n",
    "# ==============================\n",
    "from allennlp.data.token_indexers import TokenIndexer, SingleIdTokenIndexer, TokenCharactersIndexer\n",
    "from allennlp.data import Vocabulary\n",
    "\n",
    "# Read train and create a vocabulary\n",
    "reader = YelpReviewJsonLinesReader(\n",
    "    tokenizer=LettersDigitsTokenizer(), \n",
    "    token_indexers={\n",
    "        \"tokens\": SingleIdTokenIndexer()\n",
    "    }\n",
    ")\n",
    "instances = reader.read('data/train_5000.jsonl')\n",
    "# Create a vocabulary from the instances we read, relying on the token_indexers that \n",
    "# the reader used to create the Instances in order to construct the token <-> digit \n",
    "# mapping inside the vocabular\n",
    "vocab = Vocabulary.from_instances(instances)\n",
    "\n",
    "print(vocab)\n",
    "single_id_indexer = SingleIdTokenIndexer(namespace=\"tokens\")\n",
    "character_indexer = TokenCharactersIndexer(namespace=\"token_characters\")\n",
    "ldt_output = letters_digits_tokenizer.tokenize(text)\n",
    "print(\"letters_digits_tokenizer output:\\n\\t\", ldt_output)\n",
    "print(\"single_id_indexer output:\\n\\t\", single_id_indexer.tokens_to_indices(ldt_output, vocab))\n",
    "print()\n",
    "\n",
    "ct_output = character_tokenizer.tokenize(text)\n",
    "print(\"character_tokenizer output:\\n\\t\", ct_output)\n",
    "print(\"character_indexer output:\\n\\t\", character_indexer.tokens_to_indices(ct_output, vocab))\n",
    "print(\"token in \\\"token_characters\\\" at index 1:\\n\\t\", vocab.get_token_from_index(1, \"token_characters\"))"
   ]
  }
 ],
 "metadata": {
  "kernelspec": {
   "display_name": "Python 3 (ipykernel)",
   "language": "python",
   "name": "python3"
  },
  "language_info": {
   "codemirror_mode": {
    "name": "ipython",
    "version": 3
   },
   "file_extension": ".py",
   "mimetype": "text/x-python",
   "name": "python",
   "nbconvert_exporter": "python",
   "pygments_lexer": "ipython3",
   "version": "3.9.7"
  }
 },
 "nbformat": 4,
 "nbformat_minor": 5
}
