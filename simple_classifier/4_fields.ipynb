{
 "cells": [
  {
   "cell_type": "code",
   "execution_count": 31,
   "id": "79e4a060-49e2-4b9b-9cb9-4f203648a573",
   "metadata": {},
   "outputs": [],
   "source": [
    "from allennlp.data.tokenizers import Tokenizer, LettersDigitsTokenizer, SpacyTokenizer, CharacterTokenizer, PretrainedTransformerTokenizer, WhitespaceTokenizer\n",
    "from simple_classifier.dataset_reader import YelpReviewJsonLinesReader\n",
    "\n",
    "# Set up tokenizers and indexers\n",
    "letters_digits_tokenizer = LettersDigitsTokenizer()\n",
    "spacy_tokenizer = SpacyTokenizer()\n",
    "character_tokenizer = CharacterTokenizer()\n",
    "distilbert_tokenizer = PretrainedTransformerTokenizer('distilbert-base-uncased')\n",
    "whitespace_tokenizer = WhitespaceTokenizer()"
   ]
  },
  {
   "cell_type": "code",
   "execution_count": 32,
   "id": "de1cefb0-e184-4e9e-940a-d57d549c0e43",
   "metadata": {},
   "outputs": [
    {
     "name": "stdout",
     "output_type": "stream",
     "text": [
      "Pierre Vinken , 61 years old , will join the board as a nonexecutive director Nov . 29 .\n",
      "Pierre Vinken , 61 years old , will join the board as a nonexecutive director Nov. 29 .\n",
      "Pierre Vinken, 61 years old, will join the board as a nonexecutive director Nov. 29.\n",
      "P i e r r e   V i n k e n ,   6 1   y e a r s   o l d ,   w i l l   j o i n   t h e   b o a r d   a s   a   n o n e x e c u t i v e   d i r e c t o r   N o v .   2 9 .\n",
      "[CLS] pierre vin ##ken , 61 years old , will join the board as a none ##x ##ec ##utive director nov . 29 . [SEP]\n"
     ]
    }
   ],
   "source": [
    "# Exercise 16\n",
    "# ==============================\n",
    "text = \"Pierre Vinken, 61 years old, will join the board as a nonexecutive director Nov. 29.\"\n",
    "print(\" \".join(x.text for x in letters_digits_tokenizer.tokenize(text)))\n",
    "print(\" \".join(x.text for x in spacy_tokenizer.tokenize(text)))\n",
    "print(\" \".join(x.text for x in whitespace_tokenizer.tokenize(text)))\n",
    "print(\" \".join(x.text for x in character_tokenizer.tokenize(text)))\n",
    "print(\" \".join(x.text for x in distilbert_tokenizer.tokenize(text)))"
   ]
  },
  {
   "cell_type": "code",
   "execution_count": 39,
   "id": "4df0a68b-34ab-40db-a73c-2da2fdec5ed8",
   "metadata": {},
   "outputs": [
    {
     "data": {
      "application/vnd.jupyter.widget-view+json": {
       "model_id": "d8f9bb9c731c4112a18f7a06bdc38049",
       "version_major": 2,
       "version_minor": 0
      },
      "text/plain": [
       "building vocab: 0it [00:00, ?it/s]"
      ]
     },
     "metadata": {},
     "output_type": "display_data"
    },
    {
     "name": "stdout",
     "output_type": "stream",
     "text": [
      "Vocabulary with namespaces:\n",
      " \tNon Padded Namespaces: {'*tags', '*labels'}\n",
      " \tNamespace: tokens, Size: 24300 \n",
      " \tNamespace: token_characters, Size: 93 \n",
      " \tNamespace: labels, Size: 5 \n",
      "\n",
      "[Pierre, Vinken, ,, 61, years, old, ,, will, join, the, board, as, a, nonexecutive, director, Nov, ., 29, .]\n",
      "{'tokens': [1, 1, 4, 5139, 251, 257, 4, 93, 3402, 3, 2087, 44, 7, 1, 1, 12633, 2, 4671, 2]}\n",
      "@@UNKNOWN@@\n",
      "[P, i, e, r, r, e,  , V, i, n, k, e, n, ,,  , 6, 1,  , y, e, a, r, s,  , o, l, d, ,,  , w, i, l, l,  , j, o, i, n,  , t, h, e,  , b, o, a, r, d,  , a, s,  , a,  , n, o, n, e, x, e, c, u, t, i, v, e,  , d, i, r, e, c, t, o, r,  , N, o, v, .,  , 2, 9, .]\n",
      "{'token_characters': [[37], [6], [2], [9], [9], [2], [1], [65], [6], [8], [24], [2], [8], [25], [1], [72], [53], [1], [16], [2], [4], [9], [7], [1], [5], [12], [11], [25], [1], [15], [6], [12], [12], [1], [36], [5], [6], [8], [1], [3], [10], [2], [1], [22], [5], [4], [9], [11], [1], [4], [7], [1], [4], [1], [8], [5], [8], [2], [32], [2], [14], [13], [3], [6], [23], [2], [1], [11], [6], [9], [2], [14], [3], [5], [9], [1], [46], [5], [23], [21], [1], [56], [69], [21]]}\n"
     ]
    }
   ],
   "source": [
    "# Exercise 17\n",
    "# ==============================\n",
    "from allennlp.data.token_indexers import TokenIndexer, SingleIdTokenIndexer, TokenCharactersIndexer\n",
    "from allennlp.data import Vocabulary\n",
    "\n",
    "# Read train and create a vocabulary\n",
    "reader = YelpReviewJsonLinesReader(\n",
    "    tokenizer=LettersDigitsTokenizer(), \n",
    "    token_indexers={\n",
    "        \"tokens\": SingleIdTokenIndexer(),\n",
    "        \"chars\": TokenCharactersIndexer()\n",
    "    }\n",
    ")\n",
    "instances = reader.read('data/train_5000.jsonl')\n",
    "vocab = Vocabulary.from_instances(instances)\n",
    "\n",
    "print(vocab)\n",
    "single_id_indexer = SingleIdTokenIndexer(namespace=\"tokens\")\n",
    "character_indexer = TokenCharactersIndexer(namespace=\"token_characters\")\n",
    "print(letters_digits_tokenizer.tokenize(text))\n",
    "print(single_id_indexer.tokens_to_indices(letters_digits_tokenizer.tokenize(text), vocab))\n",
    "print(vocab.get_token_from_index(1, \"token_characters\"))\n",
    "print(character_tokenizer.tokenize(text))\n",
    "print(character_indexer.tokens_to_indices(character_tokenizer.tokenize(text), vocab))"
   ]
  }
 ],
 "metadata": {
  "kernelspec": {
   "display_name": "Python 3 (ipykernel)",
   "language": "python",
   "name": "python3"
  },
  "language_info": {
   "codemirror_mode": {
    "name": "ipython",
    "version": 3
   },
   "file_extension": ".py",
   "mimetype": "text/x-python",
   "name": "python",
   "nbconvert_exporter": "python",
   "pygments_lexer": "ipython3",
   "version": "3.9.7"
  }
 },
 "nbformat": 4,
 "nbformat_minor": 5
}
